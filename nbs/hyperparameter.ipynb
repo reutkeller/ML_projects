{
 "cells": [
  {
   "cell_type": "code",
   "execution_count": 1,
   "metadata": {},
   "outputs": [],
   "source": [
    "#| default_exp hyper_tun"
   ]
  },
  {
   "cell_type": "markdown",
   "metadata": {},
   "source": [
    "# Hyperparameter tunning "
   ]
  },
  {
   "cell_type": "code",
   "execution_count": 1,
   "metadata": {},
   "outputs": [],
   "source": [
    "#|hide\n",
    "from nbdev.showdoc import *"
   ]
  },
  {
   "cell_type": "code",
   "execution_count": 2,
   "metadata": {},
   "outputs": [],
   "source": [
    "#|hide\n",
    "#|export\n",
    "import numpy as np\n",
    "import pandas as pd\n",
    "# from sklearn.ensemble import RandomForestRegressor\n",
    "from sklearn.model_selection import RandomizedSearchCV\n",
    "from skopt import BayesSearchCV,gp_minimize\n",
    "from skopt.space import Real, Integer\n",
    "from skopt.utils import use_named_args\n",
    "from sklearn.model_selection import cross_val_score\n",
    "import matplotlib.pyplot as plt\n",
    "from sklearn.metrics import r2_score,mean_absolute_error, mean_squared_error\n",
    "\n",
    "from ML_projects import const_vals as CONST\n"
   ]
  },
  {
   "cell_type": "code",
   "execution_count": null,
   "metadata": {},
   "outputs": [],
   "source": [
    "#|export\n",
    "\n",
    "class HyperparameterTunning():\n",
    "  def __init__(self,\n",
    "               model ,  # model to be hyperparameter tuned\n",
    "               train_test_data : list , # list with train/test data , in this order : [x_train,x_test,y_train,y_test]\n",
    "               hyper_method : str , #hyperparameter tunning method. accepts : 'randomized' 'bayesian' , 'bayesian continous'\n",
    "               hyper_params : dict = CONST.RANDOM_GRID_RFR , #parameters for hyperparameter tunning\n",
    "\n",
    "               ):\n",
    "        \n",
    "        self.hyper_method = hyper_method\n",
    "        self.hyper_params = hyper_params\n",
    "\n",
    "\n",
    "        self.x_train = train_test_data[0]\n",
    "        self.x_test = train_test_data[1]\n",
    "        self.y_train = train_test_data[2]\n",
    "        self.y_test = train_test_data[3]\n",
    "\n",
    "\n",
    "\n",
    "  def hyperparameter(self):\n",
    "     \n",
    "     if self.hyper_method == 'randomized':\n",
    "       \n",
    "       rf_random = RandomizedSearchCV(estimator = self.model, \n",
    "                                      param_distributions = self.hyper_params,\n",
    "                                      n_iter = CONST.N_ITERATIONS_RFR,\n",
    "                                      cv = CONST.CV_RFR, \n",
    "                                      verbose=CONST.VERBOSE , \n",
    "                                      random_state=CONST.RANDOM_STATE , \n",
    "                                      n_jobs = CONST.N_JOBS)\n",
    "       \n",
    "       #fit model \n",
    "       rf_random.fit(self.x_train, self.y_train)\n",
    "\n",
    "       #best params\n",
    "       self.best_params = rf_random.best_params_\n",
    "\n",
    "\n",
    "     elif self.hyper_method == 'bayesian':\n",
    "      \n",
    "      rf_bayes = BayesSearchCV(self.model,\n",
    "                      search_spaces=self.hyper_params, \n",
    "                      n_iter=CONST.N_ITERATIONS_RFR, \n",
    "                      cv=CONST.CV_RFR)\n",
    "      np.int = int\n",
    "      \n",
    "       #fit model \n",
    "      rf_bayes.fit(self.x_train, self.y_train)\n",
    "\n",
    "      self.best_params = rf_bayes.best_params_\n",
    "\n",
    "      print(f'best params : {rf_bayes.best_params_}')\n",
    "\n",
    "\n",
    "     return self.best_params\n",
    "\n",
    "\n",
    "    \n",
    "\n"
   ]
  },
  {
   "cell_type": "code",
   "execution_count": null,
   "metadata": {},
   "outputs": [],
   "source": []
  }
 ],
 "metadata": {
  "kernelspec": {
   "display_name": ".venv",
   "language": "python",
   "name": "python3"
  },
  "language_info": {
   "codemirror_mode": {
    "name": "ipython",
    "version": 3
   },
   "file_extension": ".py",
   "mimetype": "text/x-python",
   "name": "python",
   "nbconvert_exporter": "python",
   "pygments_lexer": "ipython3",
   "version": "3.11.0"
  }
 },
 "nbformat": 4,
 "nbformat_minor": 2
}
