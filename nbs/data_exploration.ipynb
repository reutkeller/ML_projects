{
 "cells": [
  {
   "cell_type": "code",
   "execution_count": 1,
   "metadata": {},
   "outputs": [],
   "source": [
    "#| default_exp explore_data"
   ]
  },
  {
   "cell_type": "markdown",
   "metadata": {},
   "source": [
    "# Explore data"
   ]
  },
  {
   "cell_type": "code",
   "execution_count": 16,
   "metadata": {},
   "outputs": [],
   "source": [
    "#|hide\n",
    "from nbdev.showdoc import *"
   ]
  },
  {
   "cell_type": "code",
   "execution_count": 17,
   "metadata": {},
   "outputs": [],
   "source": [
    "#|hide\n",
    "#|export\n",
    "import numpy as np\n",
    "import pandas as pd\n",
    "import matplotlib.pyplot as plt\n",
    "import seaborn as sns\n",
    "\n",
    "from ML_projects import const_vals as CONST\n"
   ]
  },
  {
   "cell_type": "code",
   "execution_count": 18,
   "metadata": {},
   "outputs": [
    {
     "ename": "SyntaxError",
     "evalue": "incomplete input (255495593.py, line 29)",
     "output_type": "error",
     "traceback": [
      "\u001b[1;36m  Cell \u001b[1;32mIn[18], line 29\u001b[1;36m\u001b[0m\n\u001b[1;33m    \u001b[0m\n\u001b[1;37m    ^\u001b[0m\n\u001b[1;31mSyntaxError\u001b[0m\u001b[1;31m:\u001b[0m incomplete input\n"
     ]
    }
   ],
   "source": [
    "#|export\n",
    "\n",
    "\n",
    "class DataExploration():\n",
    "\n",
    "\n",
    "  def __init__(self,\n",
    "               path_to_data : str , #path to read the data the will be analyzied \n",
    "               cols_for_analysis: list , # list with columns to be analysed\n",
    "               ):\n",
    "    \n",
    "\n",
    "    self.cols_for_analysis = cols_for_analysis\n",
    "\n",
    "    # read the dataframe \n",
    "    try:\n",
    "      self.df = pd.read_csv(path_to_data)\n",
    "\n",
    "    except Exception as e:\n",
    "      error_str = CONST.ERROR_READ_DF + str(e)\n",
    "      print(error_str)\n",
    "\n",
    "\n",
    "  def _generate_histogram_(self,\n",
    "                           col_name : str , # column name to be useed for analysis\n",
    "                           ):\n",
    "    \n",
    "    # Plot histogram\n",
    "    plt.figure(figsize=(8, 6))\n",
    "    plt.hist(self.df[col_name], bins=CONST.BINS_HIST, \n",
    "             color=CONST.COLOSR_HIST, \n",
    "             alpha=CONST.ALPHA_HIST)\n",
    "    \n",
    "   \n",
    "    plt.title(CONST.TITLE_HIST + col_name)\n",
    "    plt.xlabel(CONST.X_LABEL_HIST)\n",
    "    plt.ylabel(CONST.Y_LABEL_HIST)\n",
    "    plt.grid(CONST.TO_GRID)\n",
    "\n",
    "\n",
    "\n",
    "    \n",
    "\n",
    "\n"
   ]
  },
  {
   "cell_type": "code",
   "execution_count": 15,
   "metadata": {},
   "outputs": [
    {
     "ename": "TypeError",
     "evalue": "DataExploration.__init__() got an unexpected keyword argument 'cols'",
     "output_type": "error",
     "traceback": [
      "\u001b[1;31m---------------------------------------------------------------------------\u001b[0m",
      "\u001b[1;31mTypeError\u001b[0m                                 Traceback (most recent call last)",
      "Cell \u001b[1;32mIn[15], line 1\u001b[0m\n\u001b[1;32m----> 1\u001b[0m instance \u001b[38;5;241m=\u001b[39m \u001b[43mDataExploration\u001b[49m\u001b[43m(\u001b[49m\u001b[43mpath_to_data\u001b[49m\u001b[38;5;241;43m=\u001b[39;49m\u001b[43m \u001b[49m\u001b[38;5;124;43mr\u001b[39;49m\u001b[38;5;124;43m\"\u001b[39;49m\u001b[38;5;124;43mD:\u001b[39;49m\u001b[38;5;124;43m\\\u001b[39;49m\u001b[38;5;124;43mgit\u001b[39;49m\u001b[38;5;124;43m\\\u001b[39;49m\u001b[38;5;124;43mML_projects\u001b[39;49m\u001b[38;5;124;43m\\\u001b[39;49m\u001b[38;5;124;43mnbs\u001b[39;49m\u001b[38;5;124;43m\\\u001b[39;49m\u001b[38;5;124;43mdata\u001b[39;49m\u001b[38;5;124;43m\\\u001b[39;49m\u001b[38;5;124;43mresampled_sen2.csv\u001b[39;49m\u001b[38;5;124;43m\"\u001b[39;49m\u001b[43m,\u001b[49m\n\u001b[0;32m      2\u001b[0m \u001b[43m                           \u001b[49m\u001b[43mcols\u001b[49m\u001b[43m \u001b[49m\u001b[38;5;241;43m=\u001b[39;49m\u001b[43m \u001b[49m\u001b[38;5;124;43m'\u001b[39;49m\u001b[38;5;124;43mTOC\u001b[39;49m\u001b[38;5;124;43m'\u001b[39;49m\u001b[43m)\u001b[49m\n\u001b[0;32m      3\u001b[0m instance\u001b[38;5;241m.\u001b[39mdf\n",
      "\u001b[1;31mTypeError\u001b[0m: DataExploration.__init__() got an unexpected keyword argument 'cols'"
     ]
    }
   ],
   "source": [
    "instance = DataExploration(path_to_data= r\"D:\\git\\ML_projects\\nbs\\data\\resampled_sen2.csv\",\n",
    "                           cols_to_analyse = ['TOC'])\n",
    "instance.df"
   ]
  },
  {
   "cell_type": "code",
   "execution_count": null,
   "metadata": {},
   "outputs": [],
   "source": []
  }
 ],
 "metadata": {
  "kernelspec": {
   "display_name": ".venv",
   "language": "python",
   "name": "python3"
  },
  "language_info": {
   "codemirror_mode": {
    "name": "ipython",
    "version": 3
   },
   "file_extension": ".py",
   "mimetype": "text/x-python",
   "name": "python",
   "nbconvert_exporter": "python",
   "pygments_lexer": "ipython3",
   "version": "3.11.0"
  }
 },
 "nbformat": 4,
 "nbformat_minor": 2
}
