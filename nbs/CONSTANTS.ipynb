{
 "cells": [
  {
   "cell_type": "code",
   "execution_count": 1,
   "metadata": {},
   "outputs": [],
   "source": [
    "#| default_exp const_vals"
   ]
  },
  {
   "cell_type": "markdown",
   "metadata": {},
   "source": [
    "# Constant values"
   ]
  },
  {
   "cell_type": "code",
   "execution_count": 3,
   "metadata": {},
   "outputs": [],
   "source": [
    "#|hide\n",
    "from nbdev.showdoc import *"
   ]
  },
  {
   "cell_type": "code",
   "execution_count": 24,
   "metadata": {},
   "outputs": [],
   "source": [
    "#|export\n",
    "import numpy as np\n",
    "from sklearn.ensemble import RandomForestRegressor\n",
    "import xgboost as xgb\n",
    "from sklearn.svm import SVR\n",
    "from skopt.space import Real, Categorical, Integer\n",
    "from skopt.utils import use_named_args\n",
    "from sklearn.model_selection import cross_val_score\n",
    "from sklearn.linear_model import Ridge\n",
    "from sklearn.neighbors import KNeighborsRegressor\n",
    "from sklearn.ensemble import GradientBoostingRegressor\n",
    "from sklearn.ensemble import AdaBoostRegressor"
   ]
  },
  {
   "cell_type": "code",
   "execution_count": 6,
   "metadata": {},
   "outputs": [],
   "source": [
    "#|export\n",
    "RANDOM_STATE = 42 \n",
    "N_JOBS = -1 \n",
    "VERBOSE = 1"
   ]
  },
  {
   "cell_type": "code",
   "execution_count": 12,
   "metadata": {},
   "outputs": [],
   "source": [
    "#|export\n",
    "\n",
    "N_ITERATIONS_RFR = 100\n",
    "CV_RFR = 3\n",
    "N_CALLS = 20\n"
   ]
  },
  {
   "cell_type": "code",
   "execution_count": 15,
   "metadata": {},
   "outputs": [],
   "source": [
    "#|export\n",
    "\n",
    "RANDOM_GRID_RFR={'bootstrap': [True, False],\n",
    "                'max_depth': [3,10, 25, 45, 70],\n",
    "                'max_features': ['sqrt', 'log2'],\n",
    "                'min_samples_leaf': [1, 2, 4],\n",
    "                'min_samples_split': [2, 5, 10],\n",
    "                'n_estimators': [200, 400, 600, 800]}\n",
    "\n",
    "# SPACE_RFR = {'bootstrap' : Categorical([True, False]),\n",
    "#              'max_depth' : Integer(1,100),\n",
    "#              'max_features' : Categorical(['sqrt', 'log2']),\n",
    "#              'min_samples_leaf': Integer(1,5),\n",
    "#              'min_samples_split' : Integer(1,10),\n",
    "#              'n_estimators' : Integer(100,800)}\n",
    "\n",
    "\n",
    "RANDOM_GRID_XGB = {\n",
    "    \"n_estimators\": [10, 50, 100],\n",
    "    \"subsample\":[0.6, 0.8, 1],\n",
    "    \"learning_rate\":[0.01, 0.1, 0.5, 1],\n",
    "    \"gamma\":[0.01, 0.1, 1, 5],\n",
    "    \"colsample_bytree\":[0.5, 0.7, 0.9, 1],\n",
    "    \"alpha\":[0, 0.1, 0.5]\n",
    "}\n",
    "\n",
    "\n",
    "RANDOM_GRID_SVR = {\n",
    "    \"kernel\" : [\"linear\",\"sigmoid\",\"poly\"],\n",
    "    \"degree\" : [2,3,5,7],\n",
    "    \"gamma\" : [\"scale\",\"auto\"],\n",
    "    \"epsilon\" : [0.1 , 0.5 , 0.9]\n",
    "    }\n",
    "\n",
    "RANDOM_RIDGE_REGRESSION = {\n",
    "  \"alpha\" : [1,3,5],\n",
    "  \"solver\" : [\"auto\",\"svd\",\"cholesky\",\"sag\"]\n",
    "  }\n",
    "\n",
    "RANDOM_KNEIGHBORSR_REGRESSION = {\n",
    "  \"n_neighbors\" : [3,5,7,9],\n",
    "  \"weights\" : [\"uniform\",\"distance\"],\n",
    "  \"algorithm\" : [\"auto\"],\n",
    "  }\n",
    "\n",
    "RANDOM_GRADIENT_BOOST_REGRESSION = {\n",
    "  \"loss\" : [\"squared_error\", \"absolute_error\", \"huber\", \"quantile\"],\n",
    "  \"learning_rate\":[0.01, 0.1, 0.5, 1],\n",
    "  \"n_estimators\": [200, 400, 600, 800],\n",
    "  'min_samples_split': [2, 5, 10],\n",
    "  'max_depth': [3,10, 25, 45, 70],\n",
    "  'max_features': ['sqrt', 'log2'],\n",
    "  }\n",
    "\n",
    "RANDOM_ADA_BOOST_REGRESSION={\n",
    "  \"n_estimators\": [200, 400, 600, 800],\n",
    "  \"learning_rate\":[0.01, 0.1, 0.5, 1],\n",
    "  \"loss\" : [\"linear\", \"square\", \"exponential\"]\n",
    "  }\n",
    "\n",
    "\n",
    "\n",
    "\n"
   ]
  },
  {
   "cell_type": "code",
   "execution_count": 25,
   "metadata": {},
   "outputs": [],
   "source": [
    "#|export\n",
    "\n",
    "algorithm_to_params = {\n",
    "  'RFR' : RANDOM_GRID_RFR,\n",
    "  'XGB' : RANDOM_GRID_XGB,\n",
    "  'SVR' : RANDOM_GRID_SVR,\n",
    "  'RIDGE' : RANDOM_RIDGE_REGRESSION,\n",
    "  'KNEIGHBORS' : RANDOM_KNEIGHBORSR_REGRESSION,\n",
    "  'GRADIENT_BOOST' : RANDOM_GRADIENT_BOOST_REGRESSION,\n",
    "  'ADA' : RANDOM_ADA_BOOST_REGRESSION\n",
    "  }\n",
    "\n",
    "\n",
    "algorithm_to_modle ={\n",
    "  'RFR' : RandomForestRegressor() ,\n",
    "  'XGB' : xgb.XGBRegressor(),\n",
    "  'SVR' : SVR(),\n",
    "  'RIDGE' : Ridge(),\n",
    "  'KNEIGHBORS' : KNeighborsRegressor(),\n",
    "  'GRADIENT_BOOST' : GradientBoostingRegressor() ,\n",
    "  'ADA' : AdaBoostRegressor()\n",
    "}"
   ]
  },
  {
   "cell_type": "code",
   "execution_count": null,
   "metadata": {},
   "outputs": [],
   "source": []
  }
 ],
 "metadata": {
  "kernelspec": {
   "display_name": ".venv",
   "language": "python",
   "name": "python3"
  },
  "language_info": {
   "codemirror_mode": {
    "name": "ipython",
    "version": 3
   },
   "file_extension": ".py",
   "mimetype": "text/x-python",
   "name": "python",
   "nbconvert_exporter": "python",
   "pygments_lexer": "ipython3",
   "version": "3.12.1"
  }
 },
 "nbformat": 4,
 "nbformat_minor": 2
}
