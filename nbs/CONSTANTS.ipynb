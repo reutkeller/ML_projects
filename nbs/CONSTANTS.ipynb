{
 "cells": [
  {
   "cell_type": "code",
   "execution_count": 1,
   "metadata": {},
   "outputs": [],
   "source": [
    "#| default_exp const_vals"
   ]
  },
  {
   "cell_type": "markdown",
   "metadata": {},
   "source": [
    "# Constant values"
   ]
  },
  {
   "cell_type": "code",
   "execution_count": 3,
   "metadata": {},
   "outputs": [],
   "source": [
    "#|hide\n",
    "from nbdev.showdoc import *"
   ]
  },
  {
   "cell_type": "code",
   "execution_count": 8,
   "metadata": {},
   "outputs": [],
   "source": [
    "#|export\n",
    "import numpy as np\n",
    "from skopt.space import Real, Categorical, Integer\n",
    "from skopt.utils import use_named_args\n",
    "from sklearn.model_selection import cross_val_score\n"
   ]
  },
  {
   "cell_type": "code",
   "execution_count": 6,
   "metadata": {},
   "outputs": [],
   "source": [
    "#|export\n",
    "RANDOM_STATE = 42 \n",
    "N_JOBS = -1 \n",
    "VERBOSE = 1"
   ]
  },
  {
   "cell_type": "code",
   "execution_count": 12,
   "metadata": {},
   "outputs": [],
   "source": [
    "#|export\n",
    "\n",
    "N_ITERATIONS_RFR = 100\n",
    "CV_RFR = 3\n",
    "N_CALLS = 20\n"
   ]
  },
  {
   "cell_type": "code",
   "execution_count": null,
   "metadata": {},
   "outputs": [],
   "source": [
    "#|export\n",
    "\n",
    "RANDOM_GRID_RFR={'bootstrap': [True, False],\n",
    "                'max_depth': [20, 40, 70, 80],\n",
    "                'max_features': ['sqrt', 'log2'],\n",
    "                'min_samples_leaf': [1, 2, 4],\n",
    "                'min_samples_split': [2, 5, 10],\n",
    "                'n_estimators': [200, 400, 600, 800]}\n",
    "\n",
    "SPACE_RFR = {'bootstrap' : Categorical([True, False]),\n",
    "             'max_depth' : Integer(1,100),\n",
    "             'max_features' : Categorical(['sqrt', 'log2']),\n",
    "             'min_samples_leaf': Integer(1,5),\n",
    "             'min_samples_split' : Integer(1,10),\n",
    "             'n_estimators' : Integer(100,800)}\n",
    "\n",
    "\n",
    "RANDOM_GRID_XGB = {\n",
    "    \"n_estimators\": [10, 50, 100],\n",
    "    \"subsample\":[0.6, 0.8, 1],\n",
    "    \"learning_rate\":[0.01, 0.1, 0.5, 1],\n",
    "    \"gamma\":[0.01, 0.1, 1, 5],\n",
    "    \"colsample_bytree\":[0.5, 0.7, 0.9, 1],\n",
    "    \"alpha\":[0, 0.1, 0.5]\n",
    "}"
   ]
  },
  {
   "cell_type": "code",
   "execution_count": null,
   "metadata": {},
   "outputs": [],
   "source": []
  }
 ],
 "metadata": {
  "kernelspec": {
   "display_name": ".venv",
   "language": "python",
   "name": "python3"
  },
  "language_info": {
   "codemirror_mode": {
    "name": "ipython",
    "version": 3
   },
   "file_extension": ".py",
   "mimetype": "text/x-python",
   "name": "python",
   "nbconvert_exporter": "python",
   "pygments_lexer": "ipython3",
   "version": "3.12.1"
  }
 },
 "nbformat": 4,
 "nbformat_minor": 2
}
