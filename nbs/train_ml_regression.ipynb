{
 "cells": [
  {
   "cell_type": "code",
   "execution_count": 1,
   "metadata": {},
   "outputs": [],
   "source": [
    "#| default_exp regress_ml"
   ]
  },
  {
   "cell_type": "markdown",
   "metadata": {},
   "source": [
    "# Train ML model"
   ]
  },
  {
   "cell_type": "code",
   "execution_count": 2,
   "metadata": {},
   "outputs": [],
   "source": [
    "#|hide\n",
    "from nbdev.showdoc import *"
   ]
  },
  {
   "cell_type": "code",
   "execution_count": 2,
   "metadata": {},
   "outputs": [],
   "source": [
    "#|hide\n",
    "#|export\n",
    "import pandas as pd\n",
    "import numpy as np\n",
    "\n",
    "from sklearn.model_selection import train_test_split, RandomizedSearchCV\n",
    "from sklearn.ensemble import RandomForestRegressor\n",
    "from sklearn.metrics import r2_score\n",
    "from ML_projects import const_vals as CONST\n",
    "from ML_projects import rf_reg as rf_reg"
   ]
  },
  {
   "cell_type": "code",
   "execution_count": 3,
   "metadata": {},
   "outputs": [],
   "source": [
    "#|export\n",
    "#TODO - take out the randorm forest and put it as separate function \n",
    "class TrainRegression():\n",
    "       \n",
    "       def __init__(self,\n",
    "               df_path : str , # path to dataframe to be used to train. File should be CSV file\n",
    "               ground_truth_col: str, # name of the column with true data to train\n",
    "               test_size : float , #size of data to be used for test \n",
    "               hyper_method : str , #hyperparameter tunning method. accepts : 'randomized' 'bayesian' , 'bayesian continous'\n",
    "               columns_to_remove : list[str]=None , #columns not to use for trainning the model. These columns will be removed.\n",
    "               hyper_params : dict = CONST.RANDOM_GRID_RFR, #parameters for hyperparameter tunning\n",
    "               space : list = CONST.SPACE_RFR  , #\n",
    "               ):\n",
    "             self.df_path = df_path\n",
    "             self.columns_to_remove = columns_to_remove\n",
    "             self.ground_truth_col = ground_truth_col\n",
    "             self.test_size = test_size\n",
    "             self.hyper_method = hyper_method\n",
    "             self.hyper_params = hyper_params\n",
    "             self.space = space\n",
    "\n",
    "             #load data and get train test data\n",
    "             self.x_train, self.x_test, self.y_train, self.y_test =self._load_df_split_data()\n",
    "             \n",
    "             self.the_best_params = rf_reg.TrainRFReg(train_test_data = [self.x_train, self.x_test, self.y_train, self.y_test],\n",
    "                               hyper_method = self.hyper_method,\n",
    "                               hyper_params = self.hyper_params,\n",
    "                               space = self.space\n",
    "                               )\n",
    "\n",
    "\n",
    "\n",
    "\n",
    "       def _load_df_split_data(self):\n",
    "               \n",
    "               self.df = pd.read_csv(self.df_path)\n",
    "               #load dataframe\n",
    "               if self.columns_to_remove!= None:\n",
    "                     self.df = self.df.drop(self.columns_to_remove,axis=1)\n",
    "          \n",
    "               # split to x,y and train test data\n",
    "               self.x = self.df.drop(self.ground_truth_col,axis=1)\n",
    "               self.y = self.df[self.ground_truth_col].values\n",
    "\n",
    "               #split data to train and test\n",
    "               self.x_train, self.x_test, self.y_train, self.y_test = train_test_split(\n",
    "                      self.x, self.y, test_size=self.test_size, random_state=42)\n",
    "\n",
    "               return self.x_train, self.x_test, self.y_train, self.y_test\n",
    "       \n",
    "\n",
    "\n",
    "       # def train_model(self):\n",
    "       #        # create base model\n",
    "       #        rf = RandomForestRegressor()\n",
    "\n",
    "       #        rf_random = RandomizedSearchCV(estimator = rf, \n",
    "       #                                       param_distributions = CONST.random_grid_rf,\n",
    "       #                                         n_iter = CONST.n_iteration_rf,\n",
    "                                                 # cv = CONST.cv_rf, \n",
    "                                                 # verbose=CONST.VERBOSE , \n",
    "                                                 # random_state=CONST.RANDOM_STATE , \n",
    "                                                 # n_jobs = CONST.N_JOBS)\n",
    "                      \n",
    "              # # Fit the random search model\n",
    "              # rf_random.fit(self.x_train, self.y_train)\n",
    "              \n",
    "              # #train model \n",
    "              # self.best_rf_params = rf_random.best_params_\n",
    "\n",
    "              # #fit best model\n",
    "              # self.rf_model = RandomForestRegressor(**self.best_rf_params)\n",
    "\n",
    "              # self.rf_model.fit(self.x_train,self.y_train)\n",
    "              # #predict\n",
    "\n",
    "              # y_pred = self.rf_model.predict(self.x_test)\n",
    "\n",
    "              # self.r2 = r2_score(y_pred, self.y_test)\n",
    "\n",
    "\n",
    "\n",
    "              # return self.rf_model\n",
    "\n",
    "\n"
   ]
  },
  {
   "cell_type": "code",
   "execution_count": 17,
   "metadata": {},
   "outputs": [
    {
     "name": "stdout",
     "output_type": "stream",
     "text": [
      "Fitting 3 folds for each of 100 candidates, totalling 300 fits\n"
     ]
    },
    {
     "name": "stderr",
     "output_type": "stream",
     "text": [
      "d:\\git\\ML_projects\\.venv\\Lib\\site-packages\\sklearn\\model_selection\\_validation.py:542: FitFailedWarning: \n",
      "153 fits failed out of a total of 300.\n",
      "The score on these train-test partitions for these parameters will be set to nan.\n",
      "If these failures are not expected, you can try to debug them by setting error_score='raise'.\n",
      "\n",
      "Below are more details about the failures:\n",
      "--------------------------------------------------------------------------------\n",
      "92 fits failed with the following error:\n",
      "Traceback (most recent call last):\n",
      "  File \"d:\\git\\ML_projects\\.venv\\Lib\\site-packages\\sklearn\\model_selection\\_validation.py\", line 890, in _fit_and_score\n",
      "    estimator.fit(X_train, y_train, **fit_params)\n",
      "  File \"d:\\git\\ML_projects\\.venv\\Lib\\site-packages\\sklearn\\base.py\", line 1344, in wrapper\n",
      "    estimator._validate_params()\n",
      "  File \"d:\\git\\ML_projects\\.venv\\Lib\\site-packages\\sklearn\\base.py\", line 666, in _validate_params\n",
      "    validate_parameter_constraints(\n",
      "  File \"d:\\git\\ML_projects\\.venv\\Lib\\site-packages\\sklearn\\utils\\_param_validation.py\", line 95, in validate_parameter_constraints\n",
      "    raise InvalidParameterError(\n",
      "sklearn.utils._param_validation.InvalidParameterError: The 'max_features' parameter of RandomForestRegressor must be an int in the range [1, inf), a float in the range (0.0, 1.0], a str among {'sqrt', 'log2'} or None. Got 'auto' instead.\n",
      "\n",
      "--------------------------------------------------------------------------------\n",
      "61 fits failed with the following error:\n",
      "Traceback (most recent call last):\n",
      "  File \"d:\\git\\ML_projects\\.venv\\Lib\\site-packages\\sklearn\\model_selection\\_validation.py\", line 890, in _fit_and_score\n",
      "    estimator.fit(X_train, y_train, **fit_params)\n",
      "  File \"d:\\git\\ML_projects\\.venv\\Lib\\site-packages\\sklearn\\base.py\", line 1344, in wrapper\n",
      "    estimator._validate_params()\n",
      "  File \"d:\\git\\ML_projects\\.venv\\Lib\\site-packages\\sklearn\\base.py\", line 666, in _validate_params\n",
      "    validate_parameter_constraints(\n",
      "  File \"d:\\git\\ML_projects\\.venv\\Lib\\site-packages\\sklearn\\utils\\_param_validation.py\", line 95, in validate_parameter_constraints\n",
      "    raise InvalidParameterError(\n",
      "sklearn.utils._param_validation.InvalidParameterError: The 'max_features' parameter of RandomForestRegressor must be an int in the range [1, inf), a float in the range (0.0, 1.0], a str among {'log2', 'sqrt'} or None. Got 'auto' instead.\n",
      "\n",
      "  warnings.warn(some_fits_failed_message, FitFailedWarning)\n",
      "d:\\git\\ML_projects\\.venv\\Lib\\site-packages\\sklearn\\model_selection\\_search.py:1051: UserWarning: One or more of the test scores are non-finite: [       nan 0.49577638 0.52422519 0.50783577 0.45615528 0.46776737\n",
      " 0.5059207         nan        nan        nan 0.41331059        nan\n",
      " 0.48953089 0.50375238        nan        nan 0.54348517 0.53957973\n",
      "        nan        nan 0.50610097        nan 0.4775395         nan\n",
      "        nan        nan        nan 0.51331795 0.5260474         nan\n",
      " 0.51158968        nan        nan        nan        nan        nan\n",
      "        nan        nan        nan 0.50925967 0.46759323        nan\n",
      "        nan 0.50750714        nan 0.509788   0.48906061 0.54730875\n",
      " 0.49239448 0.50821268        nan        nan 0.50750454        nan\n",
      "        nan 0.50184294        nan 0.45697006 0.50068189        nan\n",
      " 0.50762019        nan        nan        nan        nan        nan\n",
      "        nan        nan 0.50803453 0.51598149 0.47590899 0.46595908\n",
      "        nan        nan 0.46889094        nan        nan 0.48827607\n",
      " 0.49468593        nan 0.50477804 0.47343266 0.50223159 0.50886351\n",
      "        nan        nan 0.42875074        nan        nan 0.54221079\n",
      " 0.49976645        nan 0.49619996 0.40633951        nan 0.47864566\n",
      " 0.49254517        nan 0.49536891 0.48701561]\n",
      "  warnings.warn(\n"
     ]
    }
   ],
   "source": [
    "instance = TrainRegression(\n",
    "  df_path=r\"D:\\git\\ML_projects\\nbs\\data\\resampled_sen2.csv\",\n",
    "  ground_truth_col = \"TOC\",\n",
    "  test_size = 0.25,\n",
    "  columns_to_remove = ['Unnamed: 0.1', 'Unnamed: 0', 'Lon', 'Lat', 'clay', 'silt','sand', 'NI'],\n",
    "  hyper_method = 'randomized'    \n",
    "                    )\n",
    "\n",
    "test=instance._load_df_split_data()\n"
   ]
  },
  {
   "cell_type": "code",
   "execution_count": 18,
   "metadata": {},
   "outputs": [
    {
     "data": {
      "text/plain": [
       "-0.5664377102446359"
      ]
     },
     "execution_count": 18,
     "metadata": {},
     "output_type": "execute_result"
    }
   ],
   "source": [
    "instance.r2"
   ]
  },
  {
   "cell_type": "code",
   "execution_count": null,
   "metadata": {},
   "outputs": [],
   "source": [
    "y_test"
   ]
  },
  {
   "cell_type": "code",
   "execution_count": null,
   "metadata": {},
   "outputs": [],
   "source": []
  }
 ],
 "metadata": {
  "kernelspec": {
   "display_name": ".venv",
   "language": "python",
   "name": "python3"
  },
  "language_info": {
   "codemirror_mode": {
    "name": "ipython",
    "version": 3
   },
   "file_extension": ".py",
   "mimetype": "text/x-python",
   "name": "python",
   "nbconvert_exporter": "python",
   "pygments_lexer": "ipython3",
   "version": "3.12.1"
  }
 },
 "nbformat": 4,
 "nbformat_minor": 2
}
